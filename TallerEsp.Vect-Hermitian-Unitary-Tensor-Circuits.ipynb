{
 "cells": [
  {
   "cell_type": "markdown",
   "id": "c7d4de9a-e7dc-4cf3-bd8d-7da869ceb9ac",
   "metadata": {},
   "source": [
    "# Hermitian Matrices, Unitary Matrices and Tensor Product"
   ]
  },
  {
   "cell_type": "markdown",
   "id": "007db568-62bf-4098-a52f-281b41db3012",
   "metadata": {},
   "source": [
    "\n",
    "# Understanding Complex Hermitian and Unitary Matrices\n",
    "\n",
    "This tutorial delves into two pivotal concepts in quantum computing and linear algebra: complex Hermitian and Unitary matrices. Both play critical roles in quantum mechanics and quantum computing, underpinning the behavior of quantum systems and the operations performed on them.\n",
    "\n",
    "## Objectives\n",
    "- Define and explore the properties of complex Hermitian matrices.\n",
    "- Understand and implement complex Unitary matrices in Python.\n",
    "- Highlight their significance and applications in quantum computing.\n",
    "\n",
    "Prepare to enhance your mathematical toolkit with these foundational concepts, illustrated with Python examples for a hands-on learning experience.\n"
   ]
  },
  {
   "cell_type": "markdown",
   "id": "172b4789-ccc2-41be-ae1b-fff456a76c41",
   "metadata": {},
   "source": [
    "\n",
    "## Complex Hermitian Matrices\n",
    "\n",
    "A Hermitian matrix, or self-adjoint matrix, is a square matrix that is equal to its own conjugate transpose. This property makes it a natural representation of observable quantities in quantum mechanics.\n",
    "\n",
    "### Properties\n",
    "- The eigenvalues of a Hermitian matrix are always real.\n",
    "- The eigenvectors of a Hermitian matrix corresponding to different eigenvalues are orthogonal.\n",
    "- Hermitian matrices are extensively used in quantum mechanics to describe physical observables.\n",
    "\n",
    "### Python Example: Defining a Hermitian Matrix\n"
   ]
  },
  {
   "cell_type": "code",
   "execution_count": 3,
   "id": "be7b7f14-c501-4fd9-a482-73f4acf8bfd9",
   "metadata": {},
   "outputs": [
    {
     "data": {
      "text/plain": [
       "(True,\n",
       " array([[2.+0.j, 2.-1.j],\n",
       "        [2.+1.j, 3.+0.j]]))"
      ]
     },
     "execution_count": 3,
     "metadata": {},
     "output_type": "execute_result"
    }
   ],
   "source": [
    "import numpy as np\n",
    "\n",
    "# Define a complex Hermitian matrix\n",
    "hermitian_matrix = np.array([[2+0j, 2-1j], [2+1j, 3+0j]])\n",
    "\n",
    "# Check if the matrix is Hermitian\n",
    "is_hermitian = np.allclose(hermitian_matrix, hermitian_matrix.conj().T)\n",
    "\n",
    "is_hermitian, hermitian_matrix\n"
   ]
  },
  {
   "cell_type": "markdown",
   "id": "6c6e41c4-7edb-46e0-b5a3-9dc381541312",
   "metadata": {},
   "source": [
    "\n",
    "## Complex Unitary Matrices\n",
    "\n",
    "A Unitary matrix is a square matrix whose conjugate transpose is also its inverse. Unitary matrices preserve the inner product, making them essential for describing quantum gates and evolution in quantum computing.\n",
    "\n",
    "### Properties\n",
    "- Preserves the norm of vectors, hence preserving quantum states during transformations.\n",
    "- The determinant of a Unitary matrix has an absolute value of 1.\n",
    "- Used to represent reversible quantum operations and time evolution in quantum systems.\n",
    "\n",
    "### Python Example: Defining a Unitary Matrix\n"
   ]
  },
  {
   "cell_type": "code",
   "execution_count": 4,
   "id": "72119954-9647-4f66-93e9-c014c05bb48c",
   "metadata": {},
   "outputs": [
    {
     "data": {
      "text/plain": [
       "(True,\n",
       " array([[ 0.70710678+0.j        ,  0.70710678+0.j        ],\n",
       "        [ 0.        +0.70710678j, -0.        -0.70710678j]]))"
      ]
     },
     "execution_count": 4,
     "metadata": {},
     "output_type": "execute_result"
    }
   ],
   "source": [
    "\n",
    "# Define a complex Unitary matrix\n",
    "unitary_matrix = np.array([[1/np.sqrt(2), 1/np.sqrt(2)], [1/np.sqrt(2)*1j, -1/np.sqrt(2)*1j]])\n",
    "\n",
    "# Check if the matrix is Unitary\n",
    "# np.eye(2) returns the identity of size 2x2\n",
    "is_unitary = np.allclose(np.dot(unitary_matrix, unitary_matrix.conj().T), np.eye(2))\n",
    "\n",
    "is_unitary, unitary_matrix\n"
   ]
  },
  {
   "cell_type": "markdown",
   "id": "85750bcf-34ab-49ab-9163-509b29e719c9",
   "metadata": {},
   "source": [
    "# Tensor product"
   ]
  },
  {
   "cell_type": "markdown",
   "id": "b85487ee-1d19-47ab-a0a7-e05c8b758b13",
   "metadata": {},
   "source": [
    "\n",
    "## Tensor Product for Complex Vectors\n",
    "\n",
    "The tensor product of two complex vectors creates a new vector in a higher-dimensional space, allowing us to combine quantum states in quantum computing.\n",
    "\n",
    "### Example\n"
   ]
  },
  {
   "cell_type": "code",
   "execution_count": 5,
   "id": "c4619aad-e04f-4787-a8ff-8e324f13b816",
   "metadata": {},
   "outputs": [
    {
     "data": {
      "text/plain": [
       "array([ -7.+16.j,  -9.+22.j,  -9.+38.j, -11.+52.j])"
      ]
     },
     "execution_count": 5,
     "metadata": {},
     "output_type": "execute_result"
    }
   ],
   "source": [
    "\n",
    "import numpy as np\n",
    "\n",
    "# Define two complex vectors for the tensor product\n",
    "v1 = np.array([1+2j, 3+4j])\n",
    "v2 = np.array([5+6j, 7+8j])\n",
    "\n",
    "# Calculate the tensor product\n",
    "tensor_product_v = np.kron(v1, v2)\n",
    "\n",
    "tensor_product_v\n"
   ]
  },
  {
   "cell_type": "markdown",
   "id": "aa89e379-8ce8-493d-8b0e-6461a7fc1325",
   "metadata": {},
   "source": [
    "\n",
    "## Tensor Product for Complex Matrices\n",
    "\n",
    "The tensor product for matrices combines individual matrices into a larger matrix, crucial for representing multiple qubit systems in quantum computing.\n",
    "\n",
    "### Example\n"
   ]
  },
  {
   "cell_type": "code",
   "execution_count": 6,
   "id": "c558e2f2-8ecf-466a-8fb4-469566157419",
   "metadata": {},
   "outputs": [
    {
     "data": {
      "text/plain": [
       "array([[-11. +28.j, -13. +34.j, -13. +66.j, -15. +80.j],\n",
       "       [-15. +40.j, -17. +46.j, -17. +94.j, -19.+108.j],\n",
       "       [-15.+104.j, -17.+126.j, -17.+142.j, -19.+172.j],\n",
       "       [-19.+148.j, -21.+170.j, -21.+202.j, -23.+232.j]])"
      ]
     },
     "execution_count": 6,
     "metadata": {},
     "output_type": "execute_result"
    }
   ],
   "source": [
    "\n",
    "# Define two complex matrices for the tensor product\n",
    "M1 = np.array([[1+2j, 3+4j], [5+6j, 7+8j]])\n",
    "M2 = np.array([[9+10j, 11+12j], [13+14j, 15+16j]])\n",
    "\n",
    "# Calculate the tensor product\n",
    "tensor_product_m = np.kron(M1, M2)\n",
    "\n",
    "tensor_product_m\n"
   ]
  },
  {
   "cell_type": "markdown",
   "id": "ffa82608-ea8c-4bc7-b357-a8552a649f0c",
   "metadata": {},
   "source": [
    "# Exercises on Complex Vector and Matrix Operations\n",
    "\n",
    "This set of exercises is designed to test your understanding of various concepts related to complex vector and matrix operations, which are foundational in quantum computing. Each exercise presents a concrete case for you to apply what you've learned about Hermitian matrices, Unitary matrices, and tensor products.\n",
    "\n",
    "NOTE: VERIFY YOUR COMPUTATIONS IN PAPER AND IN THE COMPUTER.\n",
    "\n",
    "## Exercise 1: Complex Hermitian Matrices\n",
    "\n",
    "Consider the matrix:\n",
    "\n",
    "$$ H = \\begin{bmatrix} 3 & 2+i \\\\ 2-i & 1 \\end{bmatrix} $$\n",
    "\n",
    "- Verify if $ H $ is a Hermitian matrix.\n",
    "- If it is, find its eigenvalues."
   ]
  },
  {
   "cell_type": "code",
   "execution_count": 7,
   "id": "22a810e4",
   "metadata": {},
   "outputs": [
    {
     "name": "stdout",
     "output_type": "stream",
     "text": [
      "Matrix:\n",
      " [[3.+0.j 2.+1.j]\n",
      " [2.-1.j 1.+0.j]]\n",
      "Is hermitian?: True\n",
      "Eigen values: [ 4.44948974-5.06745162e-17j -0.44948974+5.06745162e-17j]\n"
     ]
    }
   ],
   "source": [
    "import numpy as np\n",
    "\n",
    "# Define the matrix\n",
    "H = np.array([[3, 2+1j], [2-1j, 1]])\n",
    "\n",
    "# Check if the matrix is Hermitian\n",
    "is_hermitian = np.allclose(H, H.conj().T)\n",
    "\n",
    "# Calculate the eigenvalues if the matrix is Hermitian\n",
    "eigenvalues = np.linalg.eigvals(H) if is_hermitian else None\n",
    "\n",
    "print(\"Matrix:\\n\",H)\n",
    "print(\"Is hermitian?:\",is_hermitian)\n",
    "print(\"Eigen values:\",eigenvalues)"
   ]
  },
  {
   "cell_type": "markdown",
   "metadata": {},
   "source": [
    "## Exercise 2: Complex Unitary Matrices\n",
    "\n",
    "Consider the matrix:\n",
    "\n",
    "$$ U = \\frac{1}{\\sqrt{2}}\\begin{bmatrix} 1 & i \\\\ i & 1 \\end{bmatrix} $$\n",
    "\n",
    "- Verify if $ U $ is a Unitary matrix.\n",
    "- Compute $ UU^\\dagger $ to confirm its Unitarity, where $ U^\\dagger $ denotes the conjugate transpose of $ U $."
   ]
  },
  {
   "cell_type": "code",
   "execution_count": 26,
   "id": "9094385c",
   "metadata": {},
   "outputs": [
    {
     "name": "stdout",
     "output_type": "stream",
     "text": [
      "Is unitary?: True\n",
      "Matrix U†: \n",
      " [[0.70710678-0.j         0.        -0.70710678j]\n",
      " [0.        -0.70710678j 0.70710678-0.j        ]]\n",
      "Matrix U: \n",
      " [[0.70710678+0.j         0.        +0.70710678j]\n",
      " [0.        +0.70710678j 0.70710678+0.j        ]]\n"
     ]
    }
   ],
   "source": [
    "import numpy as np\n",
    "\n",
    "# Define the matrix\n",
    "U = np.array([[1/np.sqrt(2), 1j/np.sqrt(2)], [1j/np.sqrt(2), 1/np.sqrt(2)]])\n",
    "# Check if the matrix is Unitary\n",
    "U_dagger = U.conj().T\n",
    "is_unitary = np.allclose(np.dot(U, U_dagger), np.eye(2))\n",
    "\n",
    "print(\"Is unitary?:\",is_unitary)\n",
    "print(\"Matrix U†: \\n\",U_dagger)\n",
    "print(\"Matrix U: \\n\",U)"
   ]
  },
  {
   "cell_type": "markdown",
   "id": "818c4835",
   "metadata": {},
   "source": [
    "## Exercise 3: Tensor Product for Complex Vectors\n",
    "\n",
    "Given the complex vectors:\n",
    "\n",
    "$$ \\mathbf{v} = \\begin{bmatrix} 1+i \\\\ 2-i \\end{bmatrix}, \\quad \\mathbf{w} = \\begin{bmatrix} 1-2i \\\\ 3 \\end{bmatrix} $$\n",
    "\n",
    "Calculate the tensor product $ \\mathbf{v} \\otimes \\mathbf{w} $."
   ]
  },
  {
   "cell_type": "code",
   "execution_count": 24,
   "id": "53b62d59",
   "metadata": {},
   "outputs": [
    {
     "name": "stdout",
     "output_type": "stream",
     "text": [
      "Vector V:  [1.+1.j 2.-1.j]\n",
      "Vector W:  [1.-2.j 3.+0.j]\n",
      "Tensor product V ⊗ W:  [3.-1.j 3.+3.j 0.-5.j 6.-3.j]\n"
     ]
    }
   ],
   "source": [
    "import numpy as np\n",
    "\n",
    "# Define two complex vectors for the tensor product\n",
    "v = np.array([1+1j, 2-1j])\n",
    "w = np.array([1-2j, 3])\n",
    "\n",
    "# Calculate the tensor product\n",
    "tensor_product = np.kron(v, w)\n",
    "\n",
    "print(\"Vector V: \",v)\n",
    "print(\"Vector W: \",w)\n",
    "print(\"Tensor product V ⊗ W: \",tensor_product)"
   ]
  },
  {
   "cell_type": "markdown",
   "id": "88df011d",
   "metadata": {},
   "source": [
    "## Exercise 4: Tensor Product for Complex Matrices\n",
    "\n",
    "Given the matrices:\n",
    "\n",
    "$$ M_1 = \\begin{bmatrix} 0 & 1 \\\\ 1 & 0 \\end{bmatrix}, \\quad M_2 = \\begin{bmatrix} i & 0 \\\\ 0 & -i \\end{bmatrix} $$\n",
    "\n",
    "Calculate the tensor product $ M_1 \\otimes M_2 $."
   ]
  },
  {
   "cell_type": "code",
   "execution_count": 25,
   "id": "971b938b",
   "metadata": {},
   "outputs": [
    {
     "name": "stdout",
     "output_type": "stream",
     "text": [
      "Matrix M1: \n",
      " [[0 1]\n",
      " [1 0]]\n",
      "Matrix M2: \n",
      " [[ 0.+1.j  0.+0.j]\n",
      " [ 0.+0.j -0.-1.j]]\n",
      "Tensor product M1 ⊗ M2: \n",
      " [[0.+0.j 0.+0.j 0.+1.j 0.+0.j]\n",
      " [0.+0.j 0.-0.j 0.+0.j 0.-1.j]\n",
      " [0.+1.j 0.+0.j 0.+0.j 0.+0.j]\n",
      " [0.+0.j 0.-1.j 0.+0.j 0.-0.j]]\n"
     ]
    }
   ],
   "source": [
    "import numpy as np\n",
    "\n",
    "# Define the matrices\n",
    "M1 = np.array([[0, 1], [1, 0]])\n",
    "M2 = np.array([[1j, 0], [0, -1j]])\n",
    "\n",
    "# Calculate the tensor product\n",
    "tensor_product = np.kron(M1, M2)\n",
    "\n",
    "print(\"Matrix M1: \\n\",M1)\n",
    "print(\"Matrix M2: \\n\",M2)\n",
    "print(\"Tensor product M1 ⊗ M2: \\n\",tensor_product)"
   ]
  },
  {
   "cell_type": "markdown",
   "id": "a1ea9c8a",
   "metadata": {},
   "source": [
    "## Exercise 5: Modelling quantum computations with vectors and matrices\n",
    "\n",
    "Using matrices and vectors, implement a model of the Mach/Zehnder interferometer.\n",
    "\n",
    "![Mach-Zehnder interferometer](images/Mach-Zehnder-Interferometer.png)"
   ]
  },
  {
   "cell_type": "code",
   "execution_count": 54,
   "id": "21a314d7",
   "metadata": {},
   "outputs": [
    {
     "name": "stdout",
     "output_type": "stream",
     "text": [
      "Beamsplitter matrix H: \n",
      " [[ 0.70710678  0.70710678]\n",
      " [ 0.70710678 -0.70710678]]\n",
      "Mirror matrix X: \n",
      " [[0 1]\n",
      " [1 0]]\n",
      "\n",
      "\n",
      "Input_state (y0):  [1 0]\n",
      "y1:  [0.70710678 0.70710678]\n",
      "y2:  [0.70710678 0.70710678]\n",
      "Output state (y3):  [ 1.0 0.0 ]\n"
     ]
    }
   ],
   "source": [
    "import numpy as np\n",
    "\n",
    "# Define the input state\n",
    "input_state = np.array([1, 0])\n",
    "\n",
    "# Define the beamsplitter matrix H\n",
    "beamsplitter = np.array([[1/np.sqrt(2), 1/np.sqrt(2)], [1/np.sqrt(2), -1/np.sqrt(2)]])\n",
    "# Define the mirror matrix X\n",
    "phase_shift = np.array([[0, 1], [1, 0]])\n",
    "\n",
    "# Calculate the output state\n",
    "y1 = np.dot(beamsplitter, input_state)\n",
    "y2 = np.dot(phase_shift, y1)\n",
    "y3 = np.dot(beamsplitter, y2) \n",
    "\n",
    "print(\"Beamsplitter matrix H: \\n\",beamsplitter)\n",
    "print(\"Mirror matrix X: \\n\",phase_shift)\n",
    "print(\"\\n\")\n",
    "print(\"Input_state (y0): \",input_state)\n",
    "print(\"y1: \",y1)\n",
    "print(\"y2: \",y2)\n",
    "print(\"Output state (y3): \", \"[\",round(y3[0],2), round(y3[1],2),\"]\")"
   ]
  },
  {
   "cell_type": "markdown",
   "id": "e8607ad9",
   "metadata": {},
   "source": [
    "## Exercise 6: Composing quantum systems \n",
    "\n",
    "Using matrices and vectors, implement a model of the following circuit.\n",
    "\n",
    "![Mach-Zehnder interferometer](images/Deutsch-Algorithm.png)\n",
    "\n",
    "Use the following MAtrix for $U_f$:\n",
    "\n",
    "![Mach-Zehnder interferometer](images/ExampleUf.png)"
   ]
  },
  {
   "cell_type": "code",
   "execution_count": 64,
   "id": "049babd6",
   "metadata": {},
   "outputs": [
    {
     "name": "stdout",
     "output_type": "stream",
     "text": [
      "Oracle matrix Uf: \n",
      " [[0 1 0 0]\n",
      " [1 0 0 0]\n",
      " [0 0 1 0]\n",
      " [0 0 0 1]]\n",
      "Beamsplitter matrix H: \n",
      " [[ 0.70710678  0.70710678]\n",
      " [ 0.70710678 -0.70710678]]\n",
      "Input_state (y0):  [0 1 0 0]\n",
      "y1:  [ 0.5 -0.5  0.5 -0.5]\n",
      "y2:  [-0.5  0.5  0.5 -0.5]\n",
      "Output state (y3):  [ 0.          0.         -0.70710678  0.70710678]\n",
      "Measured state probabilities [|0⟩, |1⟩]:  [0. 1.]\n",
      "The function is balanced\n"
     ]
    }
   ],
   "source": [
    "#Set up the algorithm of Deutsch's problem\n",
    "\n",
    "import numpy as np\n",
    "\n",
    "# Define the input state\n",
    "input_state1 = np.array([1, 0])\n",
    "input_state2 = np.array([0, 1])\n",
    "# Define the oracle matrix Uf\n",
    "Uf = np.array([[0, 1, 0, 0], [1, 0, 0, 0], [0, 0, 1, 0], [0, 0, 0, 1]])\n",
    "# Define the beamsplitter matrix H\n",
    "beamsplitter = np.array([[1/np.sqrt(2), 1/np.sqrt(2)], [1/np.sqrt(2), -1/np.sqrt(2)]])\n",
    "# Define the identity matrix I\n",
    "I = np.eye(2)\n",
    "\n",
    "# Calculate the output state\n",
    "y0 = np.kron(input_state1, input_state2)\n",
    "y1 = np.dot(np.kron(beamsplitter, beamsplitter), y0)\n",
    "y2 = np.dot(Uf,y1)\n",
    "y3 = np.dot(np.kron(beamsplitter, I), y2)\n",
    "\n",
    "# Calculate probabilities for measuring 0 and 1 in the first qubit\n",
    "prob_0 = np.abs(y3[0])**2 + np.abs(y3[1])**2\n",
    "prob_1 = np.abs(y3[2])**2 + np.abs(y3[3])**2\n",
    "\n",
    "# Normalize probabilities\n",
    "total_prob = prob_0 + prob_1\n",
    "prob_0 /= total_prob\n",
    "prob_1 /= total_prob\n",
    "\n",
    "measured_state = np.array([prob_0, prob_1])\n",
    "\n",
    "print(\"Oracle matrix Uf: \\n\", Uf)\n",
    "print(\"Beamsplitter matrix H: \\n\", beamsplitter)\n",
    "\n",
    "print(\"Input_state (y0): \", y0)\n",
    "print(\"y1: \", y1)\n",
    "print(\"y2: \", y2)\n",
    "print(\"Output state (y3): \", y3)\n",
    "print(\"Measured state probabilities [|0⟩, |1⟩]: \", measured_state)\n",
    "\n",
    "# Determine if the function is constant or balanced\n",
    "if np.isclose(prob_0, 1, atol=1e-6):\n",
    "    print(\"The function is constant\")\n",
    "elif np.isclose(prob_1, 1, atol=1e-6):\n",
    "    print(\"The function is balanced\")\n",
    "else:\n",
    "    print(\"Unexpected result\")"
   ]
  }
 ],
 "metadata": {
  "kernelspec": {
   "display_name": "Python 3 (ipykernel)",
   "language": "python",
   "name": "python3"
  },
  "language_info": {
   "codemirror_mode": {
    "name": "ipython",
    "version": 3
   },
   "file_extension": ".py",
   "mimetype": "text/x-python",
   "name": "python",
   "nbconvert_exporter": "python",
   "pygments_lexer": "ipython3",
   "version": "3.12.2"
  }
 },
 "nbformat": 4,
 "nbformat_minor": 5
}
